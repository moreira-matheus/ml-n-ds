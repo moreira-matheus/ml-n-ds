{
 "cells": [
  {
   "cell_type": "markdown",
   "metadata": {},
   "source": [
    "Based on a post @ [Towards Data Science](https://towardsdatascience.com/logistic-regression-explained-593e9ddb7c6c)."
   ]
  },
  {
   "cell_type": "markdown",
   "metadata": {},
   "source": [
    "# Logistic Regression - Explained\n",
    "\n",
    "**Logistic regression** is a simple yet very effective classification algorithm so it is commonly used for many binary classification tasks.\n",
    "\n",
    "- Customer churn, spam email, website or ad click predictions are some examples of the areas where logistic regression offers a powerful solution.\n",
    "\n",
    "The basis of logistic regression is the logistic function, also called the sigmoid function, which takes in any real valued number and maps it to a value between 0 and 1.\n",
    "\n",
    "$$\n",
    "\\text{Sigmoid function: } y = \\displaystyle\\frac{1}{1 + e^{-x}}\n",
    "$$\n",
    "\n",
    "Logistic regression model takes a linear equation as input and use logistic function and log odds to perform a binary classification task.\n",
    "\n",
    "### Probability\n",
    "\n",
    "Probability measures the likelihood of an event to occur.\n",
    "- For example, if we say \"there is a 90% chance that this email is spam\": $\\text P (\\text{spam}) = 0.90$.\n",
    "\n",
    "**Odds** is the ratio of the probabilities of positive class and negative class.\n",
    "\n",
    "$$\n",
    "\\text{odds: } \\displaystyle\\frac{\\text P (\\text{spam})}{\\text P (\\neg\\ \\text{spam})}\n",
    "$$\n",
    "\n",
    "**Log odds** is the logarithm of odds.\n",
    "\n",
    "<br><center><img src=\"./IMG/prob-odds-log.png\" width=600></center><br>\n",
    "\n",
    "All these concepts essentially represent the same measure but in different ways.\n",
    "- In the case of logistic regression, log odds is used.\n",
    "- We will see the reason why log odds is preferred in logistic regression algorithm.\n",
    "    - Probability of $0.5$ means that there is an equal chance for the email to be spam or not spam.\n",
    "    - Please note that <u>the log odds of probability $0.5$ is $0$</u>. We will use that.\n",
    "\n",
    "Let's go back to the sigmoid function and show it in a different way:\n",
    "\n",
    "$$\n",
    "y = \\displaystyle\\frac{1}{1 + e^{-x}} \\Rightarrow 1 + e^{-x} = \\displaystyle\\frac{1}{y} \\Rightarrow e^{-x} = \\frac{1-y}{y} \\Rightarrow e^x = \\frac{y}{1-y}\n",
    "$$\n",
    "\n",
    "Taking the natural log of both sides:\n",
    "\n",
    "$$\n",
    "\\Rightarrow x = \\log \\Bigg( \\displaystyle\\frac{1-y}{y} \\Bigg)\n",
    "$$\n",
    "\n",
    "In the previous equation, instead of $x$, we can use a linear equation $z$:\n",
    "\n",
    "$$\n",
    "z = \\beta_0 + \\beta_1 x_1 + ... + \\beta_n x_n\\ ,\n",
    "$$\n",
    "\n",
    "Then the equation becomes:\n",
    "\n",
    "$$\n",
    "\\beta_0 + \\beta_1 x_1 + ... + \\beta_n x_n = \\log \\Bigg( \\displaystyle\\frac{1-y}{y} \\Bigg)\n",
    "$$\n",
    "\n",
    "Assume $y$ is the probability of positive class.\n",
    "- If $z$ is $0$, then $y$ is $0.5$.\n",
    "- For positive values of $z$, $y$ is higher than $0.5$ and for negative values of $z$, $y$ is less than $0.5$.\n",
    "    - If the probability of positive class is more than $0.5$ (i.e. more than $50\\%$ chance), we can predict the outcome as a positive class ($1$).\n",
    "    - Otherwise, the outcome is a negative class ($0$).\n"
   ]
  },
  {
   "cell_type": "code",
   "execution_count": 3,
   "metadata": {},
   "outputs": [],
   "source": [
    "import numpy as np\n",
    "import matplotlib.pyplot as plt\n",
    "%matplotlib inline"
   ]
  },
  {
   "cell_type": "code",
   "execution_count": 4,
   "metadata": {},
   "outputs": [],
   "source": [
    "plt.style.use('seaborn')"
   ]
  },
  {
   "cell_type": "code",
   "execution_count": 32,
   "metadata": {},
   "outputs": [],
   "source": [
    "zmin, zmax = -5.0, 5.0\n",
    "zs = np.linspace(zmin, zmax, num=100)\n",
    "logit = lambda z: np.reciprocal(1 + np.exp(-z))"
   ]
  },
  {
   "cell_type": "code",
   "execution_count": 33,
   "metadata": {},
   "outputs": [
    {
     "data": {
      "image/png": "[encoded data removed]",
      "text/plain": [
       "<Figure size 864x432 with 1 Axes>"
      ]
     },
     "metadata": {},
     "output_type": "display_data"
    }
   ],
   "source": [
    "fig, ax = plt.subplots(figsize=(12,6))\n",
    "\n",
    "ax.set_title('Logistic Function', fontsize=20)\n",
    "\n",
    "ax.plot(zs, logit(zs), linewidth=2.5, label='Logistic function')\n",
    "ax.axhline(y=0.5, linestyle='dashed', linewidth=0.75, color='red', label=r'$y = 0.5$')\n",
    "\n",
    "ax.set_xlabel(r'$z$', fontsize=16)\n",
    "ax.set_ylabel(r'$y$', fontsize=16)\n",
    "ax.set_ylim([-0.1, 1.1])\n",
    "\n",
    "ax.legend(loc='lower right', prop={'size': 16})\n",
    "plt.show()"
   ]
  },
  {
   "cell_type": "markdown",
   "metadata": {},
   "source": [
    "The classification problem comes down to solving a linear equation:\n",
    "\n",
    "$$\n",
    "0 = \\beta_0 + \\beta_1 x_1 + ... + \\beta_n x_n\n",
    "$$\n",
    "\n",
    "Parameters of the function are determined in training phase with maximum-likelihood estimation algorithm.\n",
    "- Then, for any given values of independent variables $(x_1, … x_n)$, the probability of positive class can be calculated.\n",
    "\n",
    "We can use the calculated probability 'as is'.\n",
    "- For example, the output can be a probability that the email is spam is $95\\%$ or the probability that customer will click on this ad is $70\\%$.\n",
    "- However, in most cases, probabilities are used to classify data points. If the probability is greater than 50%, the prediction is positive class ($1$). Otherwise, the prediction is negative class ($0$).\n",
    "\n",
    "It is not always desired to choose positive class for all probability values higher than $50\\%$.\n",
    "- The value that serves as a threshold between positive and negative class is problem-dependent.\n",
    "- Good thing is that logistic regression allows us to adjust this threshold value.\n",
    "\n",
    "<u>If we set a high threshold (i.e. $95\\%$), almost all the predictions we made as positive will be correct. However, we will miss some of the positive class and label them as negative</u>.\n",
    "\n",
    "<u>If we set a low threshold (i.e. $30\\%$), we will predict almost all the positive classes correctly. However, we will classify some of the negative classes as positive</u>.\n",
    "\n",
    "Both of these cases will affect the accuracy of our model.\n",
    "- The simplest way to measure accuracy is: $\\text{Accuracy} = \\displaystyle\\frac{\\text{Num. of Correct Predictions}}{\\text{Num. of Predictions}}$.\n",
    "\n",
    "However, this is usually not enough to evaluate classification models.\n",
    "- In some binary classification tasks, there is an imbalance between positive and negative classes.\n",
    "    -  Think about classifying tumors as malignant and benign. Most of the target values (tumors) in the dataset will be $0$ (benign) because malignant tumors are very rare compared to benign ones.\n",
    "        - A typical set would include more than $90\\%$ benign ($0$) class.\n",
    "        - So, if the model predicts all the examples as $0$ without making any calculation, the accuracy is more than $90\\%$.\n",
    "        - It sounds good but is useless in this case.\n",
    "    - Therefore, we need other measures to evaluate classification models.\n",
    "    - These measures are **precision** and **recall**.\n",
    "\n",
    "### Precision and Recall\n",
    "\n",
    "First, we need to define some terms:\n",
    "\n",
    "- **True positive** (TP): Correctly predict positive ($1$) class;\n",
    "- **False positive** (FP): Predict negative ($0$) class as positive;\n",
    "- **True negative** (TN): Correctly predict negative ($0$) class;\n",
    "- **False negative** (FN): Predict positive class ($0$) as negative.\n",
    "\n",
    "It is desired to make a prediction that is either TP or TN so the models aim to maximize TP and TN values.\n",
    "\n",
    "**Precision** measures how good our model is when the prediction is positive.\n",
    "\n",
    "$$\n",
    "\\text{Precision} = \\displaystyle\\frac{\\text{TP}}{\\text{TP} + \\text{FP}}\n",
    "$$\n",
    "\n",
    "**Recall** measures how good our model is at correctly predicting positive classes.\n",
    "\n",
    "$$\n",
    "\\text{Recall} = \\displaystyle\\frac{\\text{TP}}{\\text{TP} + \\text{FN}}\n",
    "$$\n",
    "\n",
    "We cannot try to maximize both precision and recall because there is a trade-off between them.\n",
    "- Increasing precision decreases recall and vice versa.\n",
    "- You can aim to maximize precision or recall depending on the task.\n",
    "    - For an email spam detection model, we try to maximize precision because we want to be correct when an email is detected as spam.\n",
    "    - We do not want to label a normal email as spam (i.e. false positive). If false positive is low, then precision is high.\n",
    "\n",
    "There is another measure that combines precision and recall into a single numbet: F1 score.\n",
    "- It is the weighted average ([harmonic mean](https://en.wikipedia.org/wiki/Harmonic_mean)) of precision and recall: $\\text{F1 score} = 2 \\cdot \\displaystyle\\frac{\\text{Precision} \\cdot \\text{Recall}}{\\text{Precision} + \\text{Recall}}$.\n",
    "- F1 score is a more useful measure than accuracy for problems with uneven class distribution because it takes into account both false positive and false negatives.\n",
    "\n",
    "### Scikit-learn Implementation\n"
   ]
  },
  {
   "cell_type": "code",
   "execution_count": 35,
   "metadata": {},
   "outputs": [],
   "source": [
    "import pandas as pd\n",
    "\n",
    "from sklearn.model_selection import train_test_split\n",
    "from sklearn.datasets import load_breast_cancer\n",
    "from sklearn.linear_model import LogisticRegression\n",
    "from sklearn.metrics import classification_report"
   ]
  },
  {
   "cell_type": "code",
   "execution_count": 36,
   "metadata": {},
   "outputs": [],
   "source": [
    "X, y = load_breast_cancer(return_X_y=True)\n",
    "X_train, X_test, y_train, y_test = train_test_split(X, y, random_state=0)"
   ]
  },
  {
   "cell_type": "code",
   "execution_count": 42,
   "metadata": {},
   "outputs": [],
   "source": [
    "clf = LogisticRegression(solver='liblinear').fit(X_train, y_train)\n",
    "y_pred = clf.predict(X_test)"
   ]
  },
  {
   "cell_type": "code",
   "execution_count": 43,
   "metadata": {},
   "outputs": [
    {
     "name": "stdout",
     "output_type": "stream",
     "text": [
      "              precision    recall  f1-score   support\n",
      "\n",
      "   neg class       0.91      0.98      0.95        53\n",
      "   pos class       0.99      0.94      0.97        90\n",
      "\n",
      "    accuracy                           0.96       143\n",
      "   macro avg       0.95      0.96      0.96       143\n",
      "weighted avg       0.96      0.96      0.96       143\n",
      "\n"
     ]
    }
   ],
   "source": [
    "print(classification_report(y_test, y_pred, target_names=['neg class', 'pos class']))"
   ]
  }
 ],
 "metadata": {
  "kernelspec": {
   "display_name": "Python 3",
   "language": "python",
   "name": "python3"
  },
  "language_info": {
   "codemirror_mode": {
    "name": "ipython",
    "version": 3
   },
   "file_extension": ".py",
   "mimetype": "text/x-python",
   "name": "python",
   "nbconvert_exporter": "python",
   "pygments_lexer": "ipython3",
   "version": "3.7.4"
  }
 },
 "nbformat": 4,
 "nbformat_minor": 2
}
