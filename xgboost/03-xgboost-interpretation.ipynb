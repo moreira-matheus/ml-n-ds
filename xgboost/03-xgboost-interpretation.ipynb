{
 "cells": [
  {
   "cell_type": "markdown",
   "metadata": {},
   "source": [
    "Based on a post @ [Towards Data Science](https://towardsdatascience.com/interpreting-random-forest-and-other-black-box-models-like-xgboost-80f9cc4a3c38)."
   ]
  },
  {
   "cell_type": "markdown",
   "metadata": {},
   "source": [
    "# Interpreting Random Forest and other black box models like XGBoost\n",
    "\n",
    "> \"In machine learning there’s a recurrent dilemma between performance and interpretation. Usually, the better the model, the more complex and less understandable\".\n",
    "\n",
    "\"Generally speaking, there are two ways to interpret a model\":\n",
    "1. <u>Overall interpretation</u>: \"determine which variables (or combinations of variables) have the most predictive power, which ones have the least\";\n",
    "2. <u>Local interpretation</u>: \"for a given data point and associated prediction, determine which variables (or combinations of variables) explain this specific prediction\".\n",
    "\n",
    "\"According to the type of model you use, specific ways to interpret your model may exist\".\n",
    "- \"For instance, Decision Tree models can be interpreted simply by plotting the tree and seeing how splits are made and what are the leafs’ (*sic*) composition\".\n",
    "\n",
    "\"However, there’s no specific way to do that with RandomForest or XGBoost, which are usually better at making predictions\".\n",
    "\n",
    "## Overall interpretation\n",
    "\n",
    "\"The overall interpretation already comes out of the box in most models in Python, with the `feature_importances_` property\"."
   ]
  },
  {
   "cell_type": "code",
   "execution_count": 1,
   "metadata": {},
   "outputs": [],
   "source": [
    "import pandas as pd"
   ]
  },
  {
   "cell_type": "code",
   "execution_count": 2,
   "metadata": {},
   "outputs": [],
   "source": [
    "from sklearn.ensemble import RandomForestClassifier\n",
    "from sklearn.datasets import make_classification\n",
    "from xgboost import XGBClassifier"
   ]
  },
  {
   "cell_type": "code",
   "execution_count": 3,
   "metadata": {},
   "outputs": [],
   "source": [
    "num_features = 5\n",
    "num_classes = 2\n",
    "\n",
    "features_names = ['Var' + str(i) for i in range(num_features)]"
   ]
  },
  {
   "cell_type": "code",
   "execution_count": 4,
   "metadata": {},
   "outputs": [],
   "source": [
    "X, y = make_classification(n_samples=200, n_features=num_features,\n",
    "                           n_informative=num_features, n_repeated=0,\n",
    "                           n_redundant=0, n_classes=num_classes, random_state=42)"
   ]
  },
  {
   "cell_type": "code",
   "execution_count": 5,
   "metadata": {},
   "outputs": [],
   "source": [
    "rfc = RandomForestClassifier()\n",
    "xgb = XGBClassifier()"
   ]
  },
  {
   "cell_type": "code",
   "execution_count": 6,
   "metadata": {},
   "outputs": [
    {
     "name": "stderr",
     "output_type": "stream",
     "text": [
      "C:\\Users\\BigData\\AppData\\Local\\Continuum\\anaconda3\\lib\\site-packages\\sklearn\\ensemble\\forest.py:245: FutureWarning: The default value of n_estimators will change from 10 in version 0.20 to 100 in 0.22.\n",
      "  \"10 in version 0.20 to 100 in 0.22.\", FutureWarning)\n"
     ]
    },
    {
     "data": {
      "text/plain": [
       "RandomForestClassifier(bootstrap=True, class_weight=None, criterion='gini',\n",
       "                       max_depth=None, max_features='auto', max_leaf_nodes=None,\n",
       "                       min_impurity_decrease=0.0, min_impurity_split=None,\n",
       "                       min_samples_leaf=1, min_samples_split=2,\n",
       "                       min_weight_fraction_leaf=0.0, n_estimators=10,\n",
       "                       n_jobs=None, oob_score=False, random_state=None,\n",
       "                       verbose=0, warm_start=False)"
      ]
     },
     "execution_count": 6,
     "metadata": {},
     "output_type": "execute_result"
    }
   ],
   "source": [
    "rfc.fit(X, y)"
   ]
  },
  {
   "cell_type": "code",
   "execution_count": 7,
   "metadata": {},
   "outputs": [
    {
     "data": {
      "text/plain": [
       "XGBClassifier(base_score=0.5, booster='gbtree', colsample_bylevel=1,\n",
       "              colsample_bynode=1, colsample_bytree=1, gamma=0,\n",
       "              learning_rate=0.1, max_delta_step=0, max_depth=3,\n",
       "              min_child_weight=1, missing=None, n_estimators=100, n_jobs=1,\n",
       "              nthread=None, objective='binary:logistic', random_state=0,\n",
       "              reg_alpha=0, reg_lambda=1, scale_pos_weight=1, seed=None,\n",
       "              silent=None, subsample=1, verbosity=1)"
      ]
     },
     "execution_count": 7,
     "metadata": {},
     "output_type": "execute_result"
    }
   ],
   "source": [
    "xgb.fit(X, y)"
   ]
  },
  {
   "cell_type": "code",
   "execution_count": 8,
   "metadata": {},
   "outputs": [
    {
     "data": {
      "text/html": [
       "<div>\n",
       "<style scoped>\n",
       "    .dataframe tbody tr th:only-of-type {\n",
       "        vertical-align: middle;\n",
       "    }\n",
       "\n",
       "    .dataframe tbody tr th {\n",
       "        vertical-align: top;\n",
       "    }\n",
       "\n",
       "    .dataframe thead th {\n",
       "        text-align: right;\n",
       "    }\n",
       "</style>\n",
       "<table border=\"1\" class=\"dataframe\">\n",
       "  <thead>\n",
       "    <tr style=\"text-align: right;\">\n",
       "      <th></th>\n",
       "      <th>Variable</th>\n",
       "      <th>Importance</th>\n",
       "    </tr>\n",
       "  </thead>\n",
       "  <tbody>\n",
       "    <tr>\n",
       "      <td>0</td>\n",
       "      <td>Var1</td>\n",
       "      <td>0.281703</td>\n",
       "    </tr>\n",
       "    <tr>\n",
       "      <td>1</td>\n",
       "      <td>Var0</td>\n",
       "      <td>0.235463</td>\n",
       "    </tr>\n",
       "    <tr>\n",
       "      <td>2</td>\n",
       "      <td>Var2</td>\n",
       "      <td>0.192859</td>\n",
       "    </tr>\n",
       "    <tr>\n",
       "      <td>3</td>\n",
       "      <td>Var3</td>\n",
       "      <td>0.155881</td>\n",
       "    </tr>\n",
       "    <tr>\n",
       "      <td>4</td>\n",
       "      <td>Var4</td>\n",
       "      <td>0.134094</td>\n",
       "    </tr>\n",
       "  </tbody>\n",
       "</table>\n",
       "</div>"
      ],
      "text/plain": [
       "  Variable  Importance\n",
       "0     Var1    0.281703\n",
       "1     Var0    0.235463\n",
       "2     Var2    0.192859\n",
       "3     Var3    0.155881\n",
       "4     Var4    0.134094"
      ]
     },
     "execution_count": 8,
     "metadata": {},
     "output_type": "execute_result"
    }
   ],
   "source": [
    "pd.DataFrame({'Variable': features_names,\n",
    "              'Importance': rfc.feature_importances_}).sort_values(by='Importance', ascending=False).reset_index(drop=True)"
   ]
  },
  {
   "cell_type": "code",
   "execution_count": 9,
   "metadata": {},
   "outputs": [
    {
     "data": {
      "text/html": [
       "<div>\n",
       "<style scoped>\n",
       "    .dataframe tbody tr th:only-of-type {\n",
       "        vertical-align: middle;\n",
       "    }\n",
       "\n",
       "    .dataframe tbody tr th {\n",
       "        vertical-align: top;\n",
       "    }\n",
       "\n",
       "    .dataframe thead th {\n",
       "        text-align: right;\n",
       "    }\n",
       "</style>\n",
       "<table border=\"1\" class=\"dataframe\">\n",
       "  <thead>\n",
       "    <tr style=\"text-align: right;\">\n",
       "      <th></th>\n",
       "      <th>Variable</th>\n",
       "      <th>Importance</th>\n",
       "    </tr>\n",
       "  </thead>\n",
       "  <tbody>\n",
       "    <tr>\n",
       "      <td>0</td>\n",
       "      <td>Var2</td>\n",
       "      <td>0.222909</td>\n",
       "    </tr>\n",
       "    <tr>\n",
       "      <td>1</td>\n",
       "      <td>Var0</td>\n",
       "      <td>0.220155</td>\n",
       "    </tr>\n",
       "    <tr>\n",
       "      <td>2</td>\n",
       "      <td>Var3</td>\n",
       "      <td>0.216570</td>\n",
       "    </tr>\n",
       "    <tr>\n",
       "      <td>3</td>\n",
       "      <td>Var1</td>\n",
       "      <td>0.212617</td>\n",
       "    </tr>\n",
       "    <tr>\n",
       "      <td>4</td>\n",
       "      <td>Var4</td>\n",
       "      <td>0.127749</td>\n",
       "    </tr>\n",
       "  </tbody>\n",
       "</table>\n",
       "</div>"
      ],
      "text/plain": [
       "  Variable  Importance\n",
       "0     Var2    0.222909\n",
       "1     Var0    0.220155\n",
       "2     Var3    0.216570\n",
       "3     Var1    0.212617\n",
       "4     Var4    0.127749"
      ]
     },
     "execution_count": 9,
     "metadata": {},
     "output_type": "execute_result"
    }
   ],
   "source": [
    "pd.DataFrame({'Variable': features_names,\n",
    "              'Importance': xgb.feature_importances_}).sort_values(by='Importance', ascending=False).reset_index(drop=True)"
   ]
  },
  {
   "cell_type": "markdown",
   "metadata": {},
   "source": [
    "\"Interpreting this output is quite straightforward: the more importance, the more relevant the variable is, *according to the model*\".\n",
    "- \"This a great way to\":\n",
    "    1. \"<u>identify the variables with the best predictive power</u>\";\n",
    "    2. \"<u>raise issues/correct bugs</u>: variables that have too much importance compared to others\":\n",
    "        - \"*Example*: In a previous project, we worked with biased data: data of class 1 had a lot of missing values in a variable, that data of class 0 did not. We didn’t realize it until we looked at the feature importance table. The model learnt that if the data is missing, it belongs to class 1. We solved it by sampling the missing values with data from class 0\";\n",
    "    3. \"<u>update your model with new variables</u>: To see whether a new variable is relevant to your model, compute both the feature importances for the model *before* (without the new variable), and for the model *after* (with the new variable). Analyze the shifts the new variable produces in the feature importances table\":\n",
    "        - \"*Example*: when doing feature engineering, you can come up with a more relevant feature, but introducing it in your data will probably cut the feature importances of features directly correlated to the new feature\".\n",
    "    4. \"<u>Compare different models</u>: compare the feature importances for two different models (RandomForest vs XGBoost for instance) by comparing how important the variables are. It can help to see if a model grasps the predictive power of a variable\":\n",
    "        - \"*Example*: comparing XGBoost models with different depths can help you understand that a specific variable becomes useful when you use a specific depth\".\n",
    "\n",
    "***\n",
    "\n",
    "## Local interpretation\n",
    "\n",
    "#### How to define local interpretation?\n",
    "\n",
    "> \"What inspired me here is a demo I had from [DataRobot](https://www.datarobot.com/) where they want to predict loan defaults. In their demo, for each individual prediction, they also output the top 3 variables that increased the most the probability of default, and the top 3 variables that decreased it the most\".\n",
    "\n",
    "\"Let's keep this example (with simulated data), and for more readability, let’s represent local interpretation with only 3 variables as shown below\":\n"
   ]
  },
  {
   "cell_type": "code",
   "execution_count": 10,
   "metadata": {},
   "outputs": [],
   "source": [
    "from IPython.display import Image"
   ]
  },
  {
   "cell_type": "code",
   "execution_count": 11,
   "metadata": {},
   "outputs": [
    {
     "data": {
      "image/png": "[encoded data removed]",
      "text/plain": [
       "<IPython.core.display.Image object>"
      ]
     },
     "execution_count": 11,
     "metadata": {},
     "output_type": "execute_result"
    }
   ],
   "source": [
    "Image('./IMG/top3-vars.png')"
   ]
  },
  {
   "cell_type": "markdown",
   "metadata": {},
   "source": [
    "#### The most interesting takeaways from this interpretation\n",
    "\n",
    "\"Interpreting each individual prediction can be used to\":\n",
    "\n",
    "1. \"Understand for an individual case the reasons of the prediction\":\n",
    "    - \"*Example*: two individuals can have a high probability of default but for completely different reasons (i.e. different variables)\".\n",
    "2. \"Understand on a filtered population the most frequent reasons of their predictions. *This is different from feature importance!*\":\n",
    "    - \"*Example*: consider a fraud detection use case. This is a classic majority class problem ($0.1\\%$ of class 1 data vs $99.9\\%$ of class 0 data), and the feature importance is biased towards class 0. So looking at each individual prediction of class 1 and grouping the top 3 variables that explain the most the class 1 will be very interesting to understand what features drive the most the risk\"."
   ]
  },
  {
   "cell_type": "code",
   "execution_count": 12,
   "metadata": {},
   "outputs": [
    {
     "data": {
      "image/png": "[encoded data removed]",
      "text/plain": [
       "<IPython.core.display.Image object>"
      ]
     },
     "execution_count": 12,
     "metadata": {},
     "output_type": "execute_result"
    }
   ],
   "source": [
    "Image('./IMG/top3-vars-frequency.png')"
   ]
  },
  {
   "cell_type": "markdown",
   "metadata": {},
   "source": [
    "#### Implementation in Python\n",
    "\n",
    "\"The [`treeinterpreter`](https://github.com/andosa/treeinterpreter) library in Python allows us to compute exactly the impact of each feature for a Random Forest model\".\n",
    "\n",
    "> \"I let the curious reader check the two amazing articles ([1](http://blog.datadive.net/interpreting-random-forests/) and [2](http://blog.datadive.net/random-forest-interpretation-conditional-feature-contributions/)) from the author of the package\".\n",
    "\n",
    "\"For other models, we will do a quick-and-dirty solution: run a Random Forest model, and do local interpretations where predictions between your model and the Random Forest model match (when they both simultaneously predict default or non default)\".\n",
    "- \"It is the solution I chose in a client project where I had a XGBoost model\".\n",
    "- \"In this case, the local interpretation from Random Forest made a lot of sense, but it is still a frustrating workaround not to have a dedicated framework for XGBoost specifically\".\n",
    "\n",
    "> \"As it takes some time to compute (depending on the number of trees in the Random Forest model), I recommend using a subset of your predictions for this exercise. For instance, the 10 individuals most likely to default according to the model\".\n",
    "\n",
    "```{language=python}\n",
    "from treeinterpreter import treeinterpreter as ti\n",
    "\n",
    "for i,row in X.iterrows():\n",
    "\n",
    "    data_point = pd.DataFrame([row])\n",
    "    data_point.set_axis(['value_variable']) # Once transposed, it will be the column name\n",
    "    prediction, bias, contributions = ti.predict(rf_model, data_point)\n",
    "    local_interpretation = data_point.append(\n",
    "\t    pd.DataFrame([[round(c[1],3) for c in contributions[0]]], columns=data_point.columns.tolist(), index=['contribution_variable'])\n",
    "    ).T.sort_values('contribution_variable', ascending=False)\n",
    "\n",
    "print(local_interpretation)\n",
    "```\n",
    "\n",
    "> \"Note that treeinterpreter has both variable contribution, and overall bias. For more in-depth understanding, I recommend the original [blog post](http://blog.datadive.net/interpreting-random-forests/)\".\n",
    "\n",
    "#### One thing to keep in mind\n",
    "\n",
    "> \"Imagine you have a variable 'age', and its contribution is high enough to be in the top 3 variables to contribute to a specific prediction\".\n",
    "\n",
    ">> \"You would probably be interested in knowing what the age is, because you (or an expert) will interpret differently an age of 18 or 35\".\n",
    "\n",
    ">> \"So it's a good habit to look at the contribution of a variable along with its value (like in the code above, where there are the two columns `value_variable` and `contribution_variable`)\".\n",
    "\n",
    "***\n",
    "\n",
    "## To go beyond `treeinterpreter`\n",
    "\n",
    "\"Interpreting black-box models has been the subject of many research papers and is currently, especially when it comes to [deep learning interpretation](https://deepmind.com/blog/article/understanding-deep-learning-through-neuron-deletion)\".\n",
    "- \"Different methods have been tested and adopted: [LIME](https://github.com/marcotcr/lime), [partial dependence plots](https://scikit-learn.org/stable/modules/partial_dependence.html), [defragTrees](https://github.com/sato9hara/defragTrees)...\"\n",
    "\n",
    "***\n",
    "\n",
    "For more on the interpretation of Random Forests, see [this link](https://medium.com/usf-msds/intuitive-interpretation-of-random-forest-2238687cae45).\n"
   ]
  }
 ],
 "metadata": {
  "kernelspec": {
   "display_name": "Python 3",
   "language": "python",
   "name": "python3"
  },
  "language_info": {
   "codemirror_mode": {
    "name": "ipython",
    "version": 3
   },
   "file_extension": ".py",
   "mimetype": "text/x-python",
   "name": "python",
   "nbconvert_exporter": "python",
   "pygments_lexer": "ipython3",
   "version": "3.7.4"
  }
 },
 "nbformat": 4,
 "nbformat_minor": 2
}
