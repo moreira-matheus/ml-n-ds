{
 "cells": [
  {
   "cell_type": "markdown",
   "metadata": {},
   "source": [
    "Based on a post @ [Towards Data Science](https://towardsdatascience.com/anova-for-feature-selection-in-machine-learning-d9305e228476)."
   ]
  },
  {
   "cell_type": "markdown",
   "metadata": {},
   "source": [
    "> \"The biggest challenge in machine learning is selecting the best features to train the model. We need only the features which are highly dependent on the response variable. But what if the response variable is continuous and the predictor is categorical?\"\n",
    ">> \"ANOVA (<u>AN</u>alysis <u>O</u>f <u>VA</u>riance) helps us to complete our job of selecting the best features.\""
   ]
  },
  {
   "cell_type": "markdown",
   "metadata": {},
   "source": [
    "## Impact of Variance\n",
    "\n",
    "> \"\\[M\\]easurement of the spread between numbers in a variable.\"\n",
    ">> \"The variance of a feature determines how much it is impacting the response variable. If the variance is low, it implies there is no impact of this feature on response and vice-versa.\""
   ]
  },
  {
   "cell_type": "markdown",
   "metadata": {},
   "source": [
    "## F-Distribution\n",
    "\n",
    "> \"A probability distribution generally used for the analysis of variance.\"\n",
    "\n",
    "Hypotheses:\n",
    "\n",
    "$$\n",
    "\\begin{align}\n",
    "H_0 & : \\text{ Two variances are equal.} \\\\\n",
    "H_1 & : \\text{ Two variances are NOT equal.}\n",
    "\\end{align}\n",
    "$$\n",
    "\n",
    "More on the F-distribution [here](https://en.wikipedia.org/wiki/F-distribution).\n",
    "\n",
    "#### Degrees of Freedom\n",
    "\n",
    "> \"Degrees of freedom refers to the maximum number of logically independent values, which have the freedom to vary.\"\n",
    ">> \"In simple words, it can be defined as the total number of observations minus the number of independent constraints imposed on the observations.\"\n",
    "\n",
    "$$\n",
    "\\textrm{df } = N - 1\n",
    "$$\n",
    "\n",
    "where $N$ is the number of observations (sample size).\n",
    "\n",
    "#### F-value\n",
    " > The ratio of two [chi-squared distributed](https://en.wikipedia.org/wiki/Chi-squared_distribution) variates, each one divided by its respective degrees of freedom.\n",
    " \n",
    "$$\n",
    "X \\sim F(x ; d_1, d_2) : X = \\displaystyle\\frac{\\displaystyle\\frac{U_1}{d_1}}{\\displaystyle\\frac{U_2}{d_2}}\n",
    "$$\n",
    "\n",
    "where $U_1 \\sim \\chi^2(d_1)$ and $U_2 \\sim \\chi^2(d_2)$.\n",
    "\n",
    "- $d_1 = n_1 - 1$ and $d_2 = n_2 - 1$, where $n_i$ is the sample size.\n",
    "\n",
    "##### Explanation:\n",
    "\n",
    "We know the chi-square test statistic is given by $\\chi^2 = (n-1) \\displaystyle\\frac{S^2}{\\sigma^2}$ (see `chi-square-test.pdf`), where $n$ is the sample size, $S^2$ is the <u>sample</u> variance and $\\sigma^2$ is the <u>distribution</u> variance.\n",
    "\n",
    "Substituting that into the F-value formula, we obtain $F = \\displaystyle\\frac{S_1^2}{\\sigma_1^2} \\cdot \\displaystyle\\frac{\\sigma_2^2}{S_2^2}$.\n",
    "\n",
    "If $H_0$ is true (that is, $\\sigma_1^2 = \\sigma_2^2$), then $F = \\displaystyle\\frac{S_1^2}{S_2^2}$."
   ]
  },
  {
   "cell_type": "markdown",
   "metadata": {},
   "source": [
    "## ANOVA\n",
    "\n",
    "> \"\\[U\\]sed to check the means of two or more groups that are significantly different from each other.\"\n",
    "\n",
    "For $k$ groups:\n",
    "\n",
    "$$\n",
    "\\begin{align}\n",
    "H_0 : & \\mu_1 = \\mu_2 = ... = \\mu_k \\\\\n",
    "H_1 : & \\exists\\ \\mu_i, \\mu_j : \\mu_i \\neq \\mu_j \\quad \\big( i,j \\leq k,\\ i \\neq j \\big)\n",
    "\\end{align}\n",
    "$$\n",
    "\n",
    "How comparison of means trelates to the comparison of variance?"
   ]
  },
  {
   "cell_type": "code",
   "execution_count": 1,
   "metadata": {},
   "outputs": [],
   "source": [
    "from IPython.display import Image\n",
    "Image('means-comparison.png')"
   ]
  },
  {
   "cell_type": "markdown",
   "metadata": {},
   "source": [
    "> We can say that if the groups are close or overlap, the group (sample) means will be similar to the hypothesized (distribution) mean.\n",
    "\n",
    "> Otherwise, the distribution and the group means will differ largely.\n",
    "\n",
    ">> \"Thus, in ANOVA, we will compare between-group variability to within-group variability.\"\n",
    "\n",
    ">> \"ANOVA uses an F-test to check if there is any significant difference between the groups. If there is no significant difference between thems (and all variances are seemingly equal), the result of ANOVA’s F-ratio will be close to 1.\""
   ]
  },
  {
   "cell_type": "markdown",
   "metadata": {},
   "source": [
    "### One-Way ANOVA (with example)\n",
    "\n",
    "1. \"One Way ANOVA tests the relationship between categorical predictor vs continuous response.\"\n",
    "2. \"Here we will check whether there is equal variance between groups of categorical feature w.r.t. continuous response\".\n",
    "3. \"If there is equal variance between groups, it means this feature has no impact on response and it can not be considered for model training.\"\n",
    "\n",
    "> \"By using One Way ANOVA let us determine is there any impact of the guardian on the final grade.\"\n",
    "\n",
    "- Guardian: columns (`father`, `mother` or `other`).\n",
    "- Grades: rows."
   ]
  },
  {
   "cell_type": "code",
   "execution_count": 2,
   "metadata": {},
   "outputs": [],
   "source": [
    "import pandas as pd"
   ]
  },
  {
   "cell_type": "code",
   "execution_count": 3,
   "metadata": {},
   "outputs": [],
   "source": [
    "grades = pd.read_csv('final-grades.csv')"
   ]
  },
  {
   "cell_type": "code",
   "execution_count": 4,
   "metadata": {},
   "outputs": [
    {
     "data": {
      "text/html": [
       "<div>\n",
       "<style scoped>\n",
       "    .dataframe tbody tr th:only-of-type {\n",
       "        vertical-align: middle;\n",
       "    }\n",
       "\n",
       "    .dataframe tbody tr th {\n",
       "        vertical-align: top;\n",
       "    }\n",
       "\n",
       "    .dataframe thead th {\n",
       "        text-align: right;\n",
       "    }\n",
       "</style>\n",
       "<table border=\"1\" class=\"dataframe\">\n",
       "  <thead>\n",
       "    <tr style=\"text-align: right;\">\n",
       "      <th></th>\n",
       "      <th>father</th>\n",
       "      <th>mother</th>\n",
       "      <th>other</th>\n",
       "    </tr>\n",
       "  </thead>\n",
       "  <tbody>\n",
       "    <tr>\n",
       "      <td>0</td>\n",
       "      <td>8</td>\n",
       "      <td>25</td>\n",
       "      <td>5</td>\n",
       "    </tr>\n",
       "    <tr>\n",
       "      <td>1</td>\n",
       "      <td>0</td>\n",
       "      <td>1</td>\n",
       "      <td>0</td>\n",
       "    </tr>\n",
       "    <tr>\n",
       "      <td>2</td>\n",
       "      <td>1</td>\n",
       "      <td>6</td>\n",
       "      <td>0</td>\n",
       "    </tr>\n",
       "    <tr>\n",
       "      <td>3</td>\n",
       "      <td>4</td>\n",
       "      <td>11</td>\n",
       "      <td>0</td>\n",
       "    </tr>\n",
       "    <tr>\n",
       "      <td>4</td>\n",
       "      <td>1</td>\n",
       "      <td>7</td>\n",
       "      <td>1</td>\n",
       "    </tr>\n",
       "  </tbody>\n",
       "</table>\n",
       "</div>"
      ],
      "text/plain": [
       "   father  mother  other\n",
       "0       8      25      5\n",
       "1       0       1      0\n",
       "2       1       6      0\n",
       "3       4      11      0\n",
       "4       1       7      1"
      ]
     },
     "execution_count": 4,
     "metadata": {},
     "output_type": "execute_result"
    }
   ],
   "source": [
    "grades.head()"
   ]
  },
  {
   "cell_type": "markdown",
   "metadata": {},
   "source": [
    "#### Steps to perform one-way ANOVA\n",
    "\n",
    "1. Define hypotheses.\n",
    "2. Calculate the sum of squares.\n",
    "3. Determine degrees of freedom.\n",
    "4. Compute F-value.\n",
    "5. Accept or reject the null hypothesis.\n"
   ]
  },
  {
   "cell_type": "markdown",
   "metadata": {},
   "source": [
    "##### Define hypotheses:\n",
    "\n",
    "$$\n",
    "\\begin{align}\n",
    "H_0 : & S_{\\textrm{father}}^2 = S_{\\textrm{mother}}^2 = S_{\\textrm{other}}^2 \\\\\n",
    "H_1 : & S_{\\textrm{father}}^2 \\neq S_{\\textrm{mother}}^2 \\vee S_{\\textrm{father}}^2 \\neq S_{\\textrm{other}}^2 \\vee S_{\\textrm{mother}}^2 \\neq S_{\\textrm{other}}^2\n",
    "\\end{align}\n",
    "$$\n",
    "\n",
    "##### Calculate sum of squares:\n",
    "\n",
    "\"The sum of squares is the statistical technique used to determine the dispersion in data points.\"\n",
    "\n",
    "For a a given variable $X = \\{x_i\\}$, the sum of squares is given by:\n",
    "\n",
    "$$\n",
    "SS = \\displaystyle\\sum_i (x_i - \\bar x)^2 ,\n",
    "$$\n",
    "\n",
    "where $x_i$ is the $i$-th observation and $\\bar x$ is the average value.\n",
    "\n",
    "- Total sum of squares: The sum of the distances between each observed point $x_i$ from the grand mean $\\bar x$.\n",
    "\n",
    "$$\n",
    "SS_{\\textrm{total}} = \\displaystyle\\sum_i (x_i - \\bar x)^2\n",
    "$$\n",
    "\n",
    "- Sum of squares between groups: The sum of the distances between each group average value $\\bar x_{j}\\ (j \\leq k)$ from grand means $\\bar x$ times the number of observations in each group $n_j$ (check [this link](https://en.wikipedia.org/wiki/F-test#Multiple-comparison_ANOVA_problems)).\n",
    "\n",
    "$$\n",
    "SS_{\\textrm{between}} = \\displaystyle\\sum_j n_j (\\bar x_j - \\bar x)^2\n",
    "$$\n",
    "\n",
    "- Sum of squares within groups: The sum of the distances between each observed value within the group $x_{ij}$ from the group mean $\\bar x_{j}$.\n",
    "\n",
    "$$\n",
    "SS_{\\textrm{within}} = \\displaystyle\\sum_i (x_{ij} - \\bar x_j)^2\n",
    "$$\n",
    "\n",
    "It holds that:\n",
    "\n",
    "$$\n",
    "SS_{\\textrm{total}} = SS_{\\textrm{between}} + SS_{\\textrm{within}}\n",
    "$$\n",
    "\n",
    "##### Determine degrees of freedom:\n",
    "\n",
    "1. The degrees of freedom between groups is given by $\\textrm{df}_{\\textrm{between}} = k - 1$, remembering that $k$ is the number of groups.\n",
    "\n",
    "2. The degrees of freedom within groups is given by $\\textrm{df}_{\\textrm{within}} = \\displaystyle\\sum_j (n_j - 1)$, where $n_j$ is the number of observations in group $j$.\n",
    "\n",
    "##### Compute F-value:\n",
    "\n",
    "\"Since we are comparing the variance between the groups and variance within the groups, the F value is given as\":\n",
    "\n",
    "$$\n",
    "F = \\displaystyle\\frac{SS_{\\textrm{between}}}{\\textrm{df}_{\\textrm{between}}} \\cdot \\frac{\\textrm{df}_{\\textrm{within}}}{SS_{\\textrm{within}}}\n",
    "$$"
   ]
  },
  {
   "cell_type": "code",
   "execution_count": 5,
   "metadata": {},
   "outputs": [],
   "source": [
    "means_per_group = grades.mean()\n",
    "nobs_per_group = grades.apply(len)"
   ]
  },
  {
   "cell_type": "code",
   "execution_count": 6,
   "metadata": {},
   "outputs": [],
   "source": [
    "ss_between = nobs_per_group.dot((means_per_group - means_per_group.mean())**2)\n",
    "ss_within = ((grades - means_per_group)**2).sum().sum()"
   ]
  },
  {
   "cell_type": "code",
   "execution_count": 7,
   "metadata": {},
   "outputs": [],
   "source": [
    "df_within = sum(nobs_per_group) - len(nobs_per_group)\n",
    "df_between = len(nobs_per_group) - 1"
   ]
  },
  {
   "cell_type": "code",
   "execution_count": 8,
   "metadata": {},
   "outputs": [
    {
     "data": {
      "text/plain": [
       "18.49716905444126"
      ]
     },
     "execution_count": 8,
     "metadata": {},
     "output_type": "execute_result"
    }
   ],
   "source": [
    "F_stat = (ss_between/df_between) / (ss_within/df_within)\n",
    "F_stat"
   ]
  },
  {
   "cell_type": "markdown",
   "metadata": {},
   "source": [
    "##### Accept or reject the null hypothesis:\n",
    "\n",
    "For a significance level $\\alpha$ and the degrees of freedom $\\textrm{df}_{\\textrm{between}}$ and $\\textrm{df}_{\\textrm{within}}$, the critical value for the test is given by: $F_{\\textrm{critical}} = Q(1-\\alpha;\\ \\textrm{df}_{\\textrm{between}}, \\textrm{df}_{\\textrm{within}})$, where $Q(p)$ is the percent-point (or [quantile](https://en.wikipedia.org/wiki/Quantile_function)) function, the inverse of the cumulative distribution function.\n",
    "\n",
    "- A calculator of critical values for various distributions can be found [here](https://www.socscistatistics.com/tests/criticalvalues/default.aspx).\n",
    "- For more on `scipy.stats.f`. see [this link](https://docs.scipy.org/doc/scipy/reference/generated/scipy.stats.f.html).\n",
    "\n",
    "If the test statistic is greater than the critical value ($F > F_{\\textrm{critical}}$), the null hypothesis should be rejected."
   ]
  },
  {
   "cell_type": "code",
   "execution_count": 9,
   "metadata": {},
   "outputs": [],
   "source": [
    "from scipy.stats import f"
   ]
  },
  {
   "cell_type": "code",
   "execution_count": 10,
   "metadata": {},
   "outputs": [],
   "source": [
    "alpha = 0.05"
   ]
  },
  {
   "cell_type": "code",
   "execution_count": 11,
   "metadata": {},
   "outputs": [],
   "source": [
    "F_crit = f.ppf(q=(1-alpha), dfn=df_between, dfd=df_within)"
   ]
  },
  {
   "cell_type": "code",
   "execution_count": 12,
   "metadata": {},
   "outputs": [
    {
     "name": "stdout",
     "output_type": "stream",
     "text": [
      "REJECT H0!\n"
     ]
    }
   ],
   "source": [
    "if F_stat > F_crit:\n",
    "    print('REJECT H0!')\n",
    "else:\n",
    "    print('Failed to reject H0.')"
   ]
  },
  {
   "cell_type": "markdown",
   "metadata": {},
   "source": [
    "Illustrating..."
   ]
  },
  {
   "cell_type": "code",
   "execution_count": 13,
   "metadata": {},
   "outputs": [],
   "source": [
    "import numpy as np\n",
    "import matplotlib.pyplot as plt\n",
    "%matplotlib inline"
   ]
  },
  {
   "cell_type": "code",
   "execution_count": 14,
   "metadata": {},
   "outputs": [],
   "source": [
    "plt.style.use('ggplot')"
   ]
  },
  {
   "cell_type": "code",
   "execution_count": 15,
   "metadata": {},
   "outputs": [],
   "source": [
    "xs = np.linspace(1e-6, 15, 100)\n",
    "probs = f.pdf(x=xs, dfn=df_between, dfd=df_within)"
   ]
  },
  {
   "cell_type": "code",
   "execution_count": 16,
   "metadata": {},
   "outputs": [
    {
     "data": {
      "image/png": "[encoded data removed]",
      "text/plain": [
       "<Figure size 576x576 with 1 Axes>"
      ]
     },
     "metadata": {},
     "output_type": "display_data"
    }
   ],
   "source": [
    "fig, ax = plt.subplots(figsize=(8,8))\n",
    "\n",
    "ax.set_title(r'$F$ distribution P.D.F: $df_1 = {}, df_2 = {}$'.format(df_between, df_within),\n",
    "             fontsize=20)\n",
    "\n",
    "ax.plot(xs, probs, linewidth=0.9)\n",
    "\n",
    "ax.vlines(x=F_crit,\n",
    "          ymin = 0.0,\n",
    "          ymax=alpha,\n",
    "          linestyle='dotted', label=r'Critical value ($\\alpha = {}$)'.format(alpha))\n",
    "\n",
    "ax.fill_between(x=xs[xs > F_crit],\n",
    "                y1=np.zeros_like(xs[xs > F_crit]),\n",
    "                y2=probs[xs > F_crit],\n",
    "                alpha=0.25, color='purple', label='Rejection Area')\n",
    "\n",
    "ax.set_xlabel(r'$X$', fontsize=16)\n",
    "ax.set_ylabel(r'$P(X)$', fontsize=16)\n",
    "ax.legend(prop={'size': 15})\n",
    "\n",
    "plt.show()"
   ]
  },
  {
   "cell_type": "markdown",
   "metadata": {},
   "source": [
    "> \"**\\[A\\]s the null hypothesis is rejected that means variance exists between the groups which state that there is an impact of the guardian on student final score. So we will include this feature for model training**.\""
   ]
  },
  {
   "cell_type": "markdown",
   "metadata": {},
   "source": [
    "> \"Using one-way ANOVA, we can check only a single predictor (in the example, guardian) *vs.* the target variable (grades) and determine the relationship, but what if you have two predictors?\"\n",
    "\n",
    ">> \"We will use [two-way ANOVA](https://en.wikipedia.org/wiki/Two-way_analysis_of_variance), and if there are more than two features we will go for multi-factor ANOVA.\"\n",
    "\n",
    ">> \"Using two-way or multi-factor ANOVA we can check the relationship on a response like\":\n",
    "1. Does the guardian affect the student's final grade?\n",
    "2. Do the student's activities impact their final grade?\n",
    "2. Do the student's guardian AND activities impact the final grade?"
   ]
  }
 ],
 "metadata": {
  "kernelspec": {
   "display_name": "Python 3",
   "language": "python",
   "name": "python3"
  },
  "language_info": {
   "codemirror_mode": {
    "name": "ipython",
    "version": 3
   },
   "file_extension": ".py",
   "mimetype": "text/x-python",
   "name": "python",
   "nbconvert_exporter": "python",
   "pygments_lexer": "ipython3",
   "version": "3.7.4"
  }
 },
 "nbformat": 4,
 "nbformat_minor": 2
}
